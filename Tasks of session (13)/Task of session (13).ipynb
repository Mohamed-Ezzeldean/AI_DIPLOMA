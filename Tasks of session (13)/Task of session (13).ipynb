{
 "cells": [
  {
   "cell_type": "code",
   "execution_count": 1,
   "id": "8664ae8f",
   "metadata": {},
   "outputs": [],
   "source": [
    "import re"
   ]
  },
  {
   "cell_type": "code",
   "execution_count": 3,
   "id": "de054d6a",
   "metadata": {},
   "outputs": [],
   "source": [
    "names = []\n",
    "numbers= []\n",
    "emails = []"
   ]
  },
  {
   "cell_type": "code",
   "execution_count": null,
   "id": "c6909096",
   "metadata": {},
   "outputs": [],
   "source": [
    "with open(file_path,'r') as file:\n",
    "    data = file.read()"
   ]
  },
  {
   "cell_type": "code",
   "execution_count": null,
   "id": "a8122410",
   "metadata": {},
   "outputs": [],
   "source": [
    "name_pattern = re.compile(r'\\b[A-Za-z]+\\s[A-Za-z]+\\b')\n",
    "number_pattern = re.compile(r'\\b\\d{11}\\b')\n",
    "email_pattern = re.compile(r'\\b[A-Za-z0-9._%+-]+@[A-Za-z0-9.-]+\\.[A-Z|a-z]{2,}\\b')"
   ]
  },
  {
   "cell_type": "code",
   "execution_count": null,
   "id": "2081f873-47d5-40c1-a573-747818f5c6c4",
   "metadata": {},
   "outputs": [],
   "source": [
    "potential_names = name_pattern.findall(data)\n",
    "numbers = number_pattern.findall(data)\n",
    "emails = email_pattern.findall(data)"
   ]
  },
  {
   "cell_type": "code",
   "execution_count": null,
   "id": "372ccded-4f29-454c-a628-c0c9b0a7bd8b",
   "metadata": {},
   "outputs": [],
   "source": [
    "valid_names = [name for name in potential_names if 'gmail' not in name.lower() and 'com' not in name.lower()]\n",
    "\n",
    "names.extend(valid_names)"
   ]
  },
  {
   "cell_type": "code",
   "execution_count": null,
   "id": "104426ae-c866-4ae4-b62e-444ac7891236",
   "metadata": {},
   "outputs": [],
   "source": [
    "print(\"Names:\",names)\n",
    "print(\"Numbers:\",numbers)\n",
    "print(\"Emails:\",emails)"
   ]
  }
 ],
 "metadata": {
  "kernelspec": {
   "display_name": "Python 3 (ipykernel)",
   "language": "python",
   "name": "python3"
  },
  "language_info": {
   "codemirror_mode": {
    "name": "ipython",
    "version": 3
   },
   "file_extension": ".py",
   "mimetype": "text/x-python",
   "name": "python",
   "nbconvert_exporter": "python",
   "pygments_lexer": "ipython3",
   "version": "3.11.5"
  }
 },
 "nbformat": 4,
 "nbformat_minor": 5
}
