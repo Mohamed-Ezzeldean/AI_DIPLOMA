{
 "cells": [
  {
   "cell_type": "markdown",
   "id": "cc815072",
   "metadata": {},
   "source": [
    "# Map, Filter, Reduce, and Lambda Expressions\n",
    "\n"
   ]
  },
  {
   "cell_type": "markdown",
   "id": "a05b66f7",
   "metadata": {},
   "source": [
    "# map function\n",
    "The map function allows you to \"map\" a function to an iterable object. That is to say you can quickly call the same function to every item in an iterable, such as a list. For example:"
   ]
  },
  {
   "cell_type": "code",
   "execution_count": 1,
   "id": "7c7c7802",
   "metadata": {},
   "outputs": [
    {
     "name": "stdout",
     "output_type": "stream",
     "text": [
      "[1, 4, 9, 16, 25]\n"
     ]
    }
   ],
   "source": [
    "lst1 = [1,2,3,4,5]\n",
    "lst2 = []\n",
    "for i in lst1:\n",
    "    lst2.append(i ** 2)\n",
    "print(lst2)"
   ]
  },
  {
   "cell_type": "code",
   "execution_count": 3,
   "id": "f6620b80",
   "metadata": {},
   "outputs": [
    {
     "name": "stdout",
     "output_type": "stream",
     "text": [
      "[1, 4, 9, 16, 25]\n"
     ]
    }
   ],
   "source": [
    "def square(num):\n",
    "    return num**2\n",
    "lst1 = [1,2,3,4,5]\n",
    "lst2 = []\n",
    "for i in lst1:\n",
    "    lst2.append(square(i))\n",
    "print(lst2)"
   ]
  },
  {
   "cell_type": "code",
   "execution_count": 2,
   "id": "4c7dea5d",
   "metadata": {},
   "outputs": [
    {
     "data": {
      "text/plain": [
       "[1, 4, 9, 16, 25]"
      ]
     },
     "execution_count": 2,
     "metadata": {},
     "output_type": "execute_result"
    }
   ],
   "source": [
    "def square(num):\n",
    "    return num**2\n",
    "my_nums = [1,2,3,4,5]\n",
    "my_nums2 = map(square , my_nums)\n",
    "list(my_nums2)"
   ]
  },
  {
   "cell_type": "code",
   "execution_count": 9,
   "id": "526eaeb3",
   "metadata": {},
   "outputs": [
    {
     "data": {
      "text/plain": [
       "[520, 640, 760, 880, 1000]"
      ]
     },
     "execution_count": 9,
     "metadata": {},
     "output_type": "execute_result"
    }
   ],
   "source": [
    "def myCal(x):\n",
    "    return ((x*3)+10) * 40\n",
    "my_nums = [1,2,3,4,5]\n",
    "list(map(myCal , my_nums))"
   ]
  },
  {
   "cell_type": "code",
   "execution_count": 14,
   "id": "2ed0f034",
   "metadata": {},
   "outputs": [
    {
     "name": "stdout",
     "output_type": "stream",
     "text": [
      "ALI\n",
      "AHMED\n",
      "YOUSEF\n"
     ]
    }
   ],
   "source": [
    "lstStr = ['ali' , 'Ahmed' , 'Yousef']\n",
    "for i in lstStr:\n",
    "    print(i.upper())"
   ]
  },
  {
   "cell_type": "code",
   "execution_count": 13,
   "id": "54e19fd8",
   "metadata": {},
   "outputs": [
    {
     "name": "stdout",
     "output_type": "stream",
     "text": [
      "['ALI', 'AHMED', 'YOUSEF']\n"
     ]
    }
   ],
   "source": [
    "lstStr = ['ali' , 'Ahmed' , 'Yousef']\n",
    "lstStr2 = []\n",
    "for i in lstStr:\n",
    "    lstStr2.append(i.upper())\n",
    "print(lstStr2)\n"
   ]
  },
  {
   "cell_type": "code",
   "execution_count": 4,
   "id": "954ca404",
   "metadata": {},
   "outputs": [
    {
     "data": {
      "text/plain": [
       "['ALI', 'AHMED', 'YOUSEF']"
      ]
     },
     "execution_count": 4,
     "metadata": {},
     "output_type": "execute_result"
    }
   ],
   "source": [
    "def upperStr(string):\n",
    "    return string.upper()\n",
    "lstStr = ['ali' , 'Ahmed' , 'Yousef']\n",
    "list(map(upperStr , lstStr))"
   ]
  },
  {
   "cell_type": "markdown",
   "id": "4e4d3b52",
   "metadata": {},
   "source": [
    "# filter function\n",
    "The filter function returns an iterator yielding those items of iterable for which function(item) is true. Meaning you need to filter by a function that returns either True or False. Then passing that into filter (along with your iterable) and you will get back only the results that would return True when passed to the function."
   ]
  },
  {
   "cell_type": "code",
   "execution_count": 17,
   "id": "5f7aa9ac",
   "metadata": {},
   "outputs": [
    {
     "name": "stdout",
     "output_type": "stream",
     "text": [
      "[2, 4, 6, 8, 10]\n"
     ]
    }
   ],
   "source": [
    "lst1 = [1,2,3,4,5,6,7,8,9,10]\n",
    "lst2 = []\n",
    "for i in lst1:\n",
    "    if i%2 == 0:\n",
    "        lst2.append(i)\n",
    "print(lst2)"
   ]
  },
  {
   "cell_type": "code",
   "execution_count": 25,
   "id": "f4e4f227",
   "metadata": {},
   "outputs": [
    {
     "name": "stdout",
     "output_type": "stream",
     "text": [
      "[2, 4, 6, 8, 10]\n"
     ]
    }
   ],
   "source": [
    "def checkEven(nums):\n",
    "    return nums % 2 == 0\n",
    "lst1 = [1,2,3,4,5,6,7,8,9,10]\n",
    "lst2 = []\n",
    "for i in lst1:\n",
    "    if checkEven(i) == True:\n",
    "        lst2.append(i)\n",
    "print(lst2)\n",
    "   "
   ]
  },
  {
   "cell_type": "code",
   "execution_count": 26,
   "id": "532a1f18",
   "metadata": {},
   "outputs": [
    {
     "data": {
      "text/plain": [
       "[2, 4, 6, 8, 10]"
      ]
     },
     "execution_count": 26,
     "metadata": {},
     "output_type": "execute_result"
    }
   ],
   "source": [
    "def checkEven(nums):\n",
    "    return nums % 2 == 0\n",
    "lst1 = [1,2,3,4,5,6,7,8,9,10]\n",
    "list(filter(checkEven , lst1))"
   ]
  },
  {
   "cell_type": "code",
   "execution_count": 31,
   "id": "a593572f",
   "metadata": {},
   "outputs": [
    {
     "data": {
      "text/plain": [
       "[5, 10]"
      ]
     },
     "execution_count": 31,
     "metadata": {},
     "output_type": "execute_result"
    }
   ],
   "source": [
    "def dividedBy5(nums):\n",
    "    return nums % 5 == 0\n",
    "lst1 = [1,2,3,4,5,6,7,8,9,10]\n",
    "list(filter(dividedBy5 , lst1))"
   ]
  },
  {
   "cell_type": "code",
   "execution_count": 32,
   "id": "b2fa4f0f",
   "metadata": {},
   "outputs": [
    {
     "data": {
      "text/plain": [
       "[5, 10, 15, 20, 25, 30, 35, 40, 45]"
      ]
     },
     "execution_count": 32,
     "metadata": {},
     "output_type": "execute_result"
    }
   ],
   "source": [
    "lst1 = range(1,50)\n",
    "list(filter(dividedBy5 , lst1))"
   ]
  },
  {
   "cell_type": "markdown",
   "id": "28925da6",
   "metadata": {},
   "source": [
    "# Reduce "
   ]
  },
  {
   "cell_type": "code",
   "execution_count": 3,
   "id": "fc409947",
   "metadata": {},
   "outputs": [
    {
     "name": "stdout",
     "output_type": "stream",
     "text": [
      "sum=  55\n"
     ]
    }
   ],
   "source": [
    "lst1 = [1,2,3,4,5,6,7,8,9,10]\n",
    "sum = 0 \n",
    "for i in lst1:\n",
    "    sum +=i\n",
    "print('sum= ', sum)"
   ]
  },
  {
   "cell_type": "code",
   "execution_count": 37,
   "id": "0bdfb7bf",
   "metadata": {},
   "outputs": [
    {
     "data": {
      "text/plain": [
       "4950"
      ]
     },
     "execution_count": 37,
     "metadata": {},
     "output_type": "execute_result"
    }
   ],
   "source": [
    "lst = range(1,100)\n",
    "def sumFunc(nums):\n",
    "    sum = 0\n",
    "    for i in nums:\n",
    "        sum +=i\n",
    "    return sum\n",
    "sumFunc(lst)"
   ]
  },
  {
   "cell_type": "code",
   "execution_count": 39,
   "id": "479363eb",
   "metadata": {},
   "outputs": [
    {
     "name": "stdout",
     "output_type": "stream",
     "text": [
      "Sum=  55\n"
     ]
    }
   ],
   "source": [
    "from functools import reduce\n",
    "def calSum(a,b):\n",
    "    return a+b\n",
    "lst = [1,2,3,4,5,6,7,8,9,10]\n",
    "print('Sum= ',reduce(calSum,lst))"
   ]
  },
  {
   "cell_type": "code",
   "execution_count": 42,
   "id": "9fc983f8",
   "metadata": {},
   "outputs": [
    {
     "name": "stdout",
     "output_type": "stream",
     "text": [
      "Sum=  120\n"
     ]
    }
   ],
   "source": [
    "from functools import reduce\n",
    "def calMul(a,b):\n",
    "    return a*b\n",
    "lst = [1,2,3,4,5]\n",
    "print('Sum= ',reduce(calMul,lst))"
   ]
  },
  {
   "cell_type": "code",
   "execution_count": 43,
   "id": "f35e5c22",
   "metadata": {},
   "outputs": [],
   "source": [
    "# Check Bigger"
   ]
  },
  {
   "cell_type": "code",
   "execution_count": 4,
   "id": "2aacc605",
   "metadata": {},
   "outputs": [
    {
     "name": "stdout",
     "output_type": "stream",
     "text": [
      "500\n"
     ]
    }
   ],
   "source": [
    "from functools import reduce\n",
    "def checkBigger (a,b):\n",
    "    return a if a>b else b\n",
    "lst = [10,20,30,500,5,110]\n",
    "print(reduce(checkBigger,lst))"
   ]
  },
  {
   "cell_type": "code",
   "execution_count": 58,
   "id": "11a41bb1",
   "metadata": {},
   "outputs": [
    {
     "name": "stdout",
     "output_type": "stream",
     "text": [
      "checkOdd=  [1, 3, 5, 7, 9, 11, 13, 15, 17, 19, 21, 23, 25, 27, 29, 31, 33, 35, 37, 39, 41, 43, 45, 47, 49, 51, 53, 55, 57, 59, 61, 63, 65, 67, 69, 71, 73, 75, 77, 79, 81, 83, 85, 87, 89, 91, 93, 95, 97, 99]\n",
      "Power=  [1, 4, 9, 16, 25, 36, 49, 64, 81, 100, 121, 144, 169, 196, 225, 256, 289, 324, 361, 400, 441, 484, 529, 576, 625, 676, 729, 784, 841, 900, 961, 1024, 1089, 1156, 1225, 1296, 1369, 1444, 1521, 1600, 1681, 1764, 1849, 1936, 2025, 2116, 2209, 2304, 2401, 2500, 2601, 2704, 2809, 2916, 3025, 3136, 3249, 3364, 3481, 3600, 3721, 3844, 3969, 4096, 4225, 4356, 4489, 4624, 4761, 4900, 5041, 5184, 5329, 5476, 5625, 5776, 5929, 6084, 6241, 6400, 6561, 6724, 6889, 7056, 7225, 7396, 7569, 7744, 7921, 8100, 8281, 8464, 8649, 8836, 9025, 9216, 9409, 9604, 9801, 10000]\n",
      "Sum=  5050\n"
     ]
    }
   ],
   "source": [
    "from functools import reduce\n",
    "myNums = range(1,101)\n",
    "def checkOdd(n):\n",
    "    return n % 2 != 0\n",
    "def powerFunc(n):\n",
    "    return n**2\n",
    "def calSum(a,b):\n",
    "    return a+b\n",
    "print('checkOdd= ',list(filter(checkOdd,myNums)))\n",
    "print('Power= ', list(map(powerFunc,myNums)))\n",
    "print('Sum= ', reduce(calSum,myNums))"
   ]
  },
  {
   "cell_type": "markdown",
   "id": "f8920869",
   "metadata": {},
   "source": [
    "# Lambda"
   ]
  },
  {
   "cell_type": "code",
   "execution_count": 59,
   "id": "ae0ee1e1",
   "metadata": {},
   "outputs": [],
   "source": [
    "def square(num):\n",
    "    result = num **2 \n",
    "    return result"
   ]
  },
  {
   "cell_type": "code",
   "execution_count": 60,
   "id": "199058db",
   "metadata": {},
   "outputs": [
    {
     "data": {
      "text/plain": [
       "10000"
      ]
     },
     "execution_count": 60,
     "metadata": {},
     "output_type": "execute_result"
    }
   ],
   "source": [
    "square(100)"
   ]
  },
  {
   "cell_type": "code",
   "execution_count": 61,
   "id": "43eb3aa4",
   "metadata": {},
   "outputs": [
    {
     "data": {
      "text/plain": [
       "10000"
      ]
     },
     "execution_count": 61,
     "metadata": {},
     "output_type": "execute_result"
    }
   ],
   "source": [
    "def square(num):\n",
    "    return num **2 \n",
    "square(100)"
   ]
  },
  {
   "cell_type": "code",
   "execution_count": 62,
   "id": "9a9420bd",
   "metadata": {},
   "outputs": [
    {
     "data": {
      "text/plain": [
       "10000"
      ]
     },
     "execution_count": 62,
     "metadata": {},
     "output_type": "execute_result"
    }
   ],
   "source": [
    "def square(num):return num **2 \n",
    "square(100)"
   ]
  },
  {
   "cell_type": "code",
   "execution_count": 63,
   "id": "bf0c3e87",
   "metadata": {},
   "outputs": [],
   "source": [
    "# This is the form a functin that a lambda intends to replicate"
   ]
  },
  {
   "cell_type": "code",
   "execution_count": 69,
   "id": "9e5d0842",
   "metadata": {},
   "outputs": [],
   "source": [
    "# You wouldn't usually assign a name to a lambda expression, this is just for demonstration!\n",
    "square2 = lambda num : num**2"
   ]
  },
  {
   "cell_type": "code",
   "execution_count": 68,
   "id": "8e7fd413",
   "metadata": {},
   "outputs": [
    {
     "data": {
      "text/plain": [
       "100"
      ]
     },
     "execution_count": 68,
     "metadata": {},
     "output_type": "execute_result"
    }
   ],
   "source": [
    "square2(10)"
   ]
  },
  {
   "cell_type": "code",
   "execution_count": 6,
   "id": "5daadcb9",
   "metadata": {},
   "outputs": [
    {
     "name": "stdout",
     "output_type": "stream",
     "text": [
      "checkOdd=  [1, 3, 5, 7, 9, 11, 13, 15, 17, 19, 21, 23, 25, 27, 29, 31, 33, 35, 37, 39, 41, 43, 45, 47, 49, 51, 53, 55, 57, 59, 61, 63, 65, 67, 69, 71, 73, 75, 77, 79, 81, 83, 85, 87, 89, 91, 93, 95, 97, 99]\n",
      "Power=  [1, 4, 9, 16, 25, 36, 49, 64, 81, 100, 121, 144, 169, 196, 225, 256, 289, 324, 361, 400, 441, 484, 529, 576, 625, 676, 729, 784, 841, 900, 961, 1024, 1089, 1156, 1225, 1296, 1369, 1444, 1521, 1600, 1681, 1764, 1849, 1936, 2025, 2116, 2209, 2304, 2401, 2500, 2601, 2704, 2809, 2916, 3025, 3136, 3249, 3364, 3481, 3600, 3721, 3844, 3969, 4096, 4225, 4356, 4489, 4624, 4761, 4900, 5041, 5184, 5329, 5476, 5625, 5776, 5929, 6084, 6241, 6400, 6561, 6724, 6889, 7056, 7225, 7396, 7569, 7744, 7921, 8100, 8281, 8464, 8649, 8836, 9025, 9216, 9409, 9604, 9801, 10000]\n",
      "Sum=  5050\n"
     ]
    }
   ],
   "source": [
    "from functools import reduce\n",
    "myNums = range(1,101)\n",
    "print('checkOdd= ',list(filter(lambda n : n % 2 != 0 ,myNums)))\n",
    "print('Power= ', list(map(lambda n : n**2 ,myNums)))\n",
    "print('Sum= ', reduce(lambda a,b : a+b,myNums))"
   ]
  },
  {
   "cell_type": "markdown",
   "id": "8b69a3d2",
   "metadata": {},
   "source": [
    "# List Comprehensions"
   ]
  },
  {
   "cell_type": "markdown",
   "id": "b68bd259",
   "metadata": {},
   "source": [
    "## Example 1"
   ]
  },
  {
   "cell_type": "code",
   "execution_count": 2,
   "id": "2d701529",
   "metadata": {},
   "outputs": [],
   "source": [
    "# Grab every letter in string\n",
    "lst = [x for x in 'word']"
   ]
  },
  {
   "cell_type": "code",
   "execution_count": 3,
   "id": "c494e66a",
   "metadata": {},
   "outputs": [
    {
     "data": {
      "text/plain": [
       "['w', 'o', 'r', 'd']"
      ]
     },
     "execution_count": 3,
     "metadata": {},
     "output_type": "execute_result"
    }
   ],
   "source": [
    "# Check\n",
    "lst"
   ]
  },
  {
   "cell_type": "markdown",
   "id": "c70c6875",
   "metadata": {},
   "source": [
    "## Example 2"
   ]
  },
  {
   "cell_type": "code",
   "execution_count": 4,
   "id": "6fcf3e0d",
   "metadata": {},
   "outputs": [],
   "source": [
    "# Square numbers in range and turn into list\n",
    "lst = [i ** 2 for i in range(11)]"
   ]
  },
  {
   "cell_type": "code",
   "execution_count": 5,
   "id": "c94cd897",
   "metadata": {},
   "outputs": [
    {
     "data": {
      "text/plain": [
       "[0, 1, 4, 9, 16, 25, 36, 49, 64, 81, 100]"
      ]
     },
     "execution_count": 5,
     "metadata": {},
     "output_type": "execute_result"
    }
   ],
   "source": [
    "# Check\n",
    "lst"
   ]
  },
  {
   "cell_type": "markdown",
   "id": "8f46b93e",
   "metadata": {},
   "source": [
    "## Example 3\n",
    "Let's see how to add in if statements:"
   ]
  },
  {
   "cell_type": "code",
   "execution_count": 6,
   "id": "64334d76",
   "metadata": {},
   "outputs": [],
   "source": [
    "# Check for even numbers in a range\n",
    "lst = [x ** 2 for x in range(11) if x % 2 == 0]"
   ]
  },
  {
   "cell_type": "code",
   "execution_count": 7,
   "id": "55e494b5",
   "metadata": {},
   "outputs": [
    {
     "data": {
      "text/plain": [
       "[0, 4, 16, 36, 64, 100]"
      ]
     },
     "execution_count": 7,
     "metadata": {},
     "output_type": "execute_result"
    }
   ],
   "source": [
    "# Check\n",
    "lst"
   ]
  },
  {
   "cell_type": "markdown",
   "id": "f3cf20f3",
   "metadata": {},
   "source": [
    "## Example 4\n",
    "Can also do more complicated arithmetic:"
   ]
  },
  {
   "cell_type": "code",
   "execution_count": 8,
   "id": "448c6504",
   "metadata": {},
   "outputs": [],
   "source": [
    "# Convert Celsius to Fahrenheit\n",
    "celsius = [0,10,20.1,34.5]\n",
    "fahrenheit = [((9/5)*temp + 32) for temp in celsius ]"
   ]
  },
  {
   "cell_type": "code",
   "execution_count": 9,
   "id": "0ba2baf6",
   "metadata": {},
   "outputs": [
    {
     "data": {
      "text/plain": [
       "[32.0, 50.0, 68.18, 94.1]"
      ]
     },
     "execution_count": 9,
     "metadata": {},
     "output_type": "execute_result"
    }
   ],
   "source": [
    "# Check\n",
    "fahrenheit"
   ]
  }
 ],
 "metadata": {
  "kernelspec": {
   "display_name": "Python 3 (ipykernel)",
   "language": "python",
   "name": "python3"
  },
  "language_info": {
   "codemirror_mode": {
    "name": "ipython",
    "version": 3
   },
   "file_extension": ".py",
   "mimetype": "text/x-python",
   "name": "python",
   "nbconvert_exporter": "python",
   "pygments_lexer": "ipython3",
   "version": "3.11.5"
  }
 },
 "nbformat": 4,
 "nbformat_minor": 5
}
