{
 "cells": [
  {
   "cell_type": "markdown",
   "id": "ec97ccf2",
   "metadata": {},
   "source": [
    "# Q1"
   ]
  },
  {
   "cell_type": "markdown",
   "id": "ab86582a",
   "metadata": {},
   "source": [
    "###  Write a Python function that takes a list of numbers and return the Minimum number.\n",
    "\n"
   ]
  },
  {
   "cell_type": "markdown",
   "id": "53c9406a",
   "metadata": {},
   "source": [
    "# Sol:"
   ]
  },
  {
   "cell_type": "code",
   "execution_count": 1,
   "id": "6f42a32a",
   "metadata": {},
   "outputs": [
    {
     "name": "stdout",
     "output_type": "stream",
     "text": [
      "Minimum number: 1\n"
     ]
    }
   ],
   "source": [
    "def find_minimum(numbers):\n",
    "    return min(numbers)\n",
    "numbers = [5, 2, 9, 1, 7]\n",
    "minimum = find_minimum(numbers)\n",
    "print(\"Minimum number:\", minimum)"
   ]
  },
  {
   "cell_type": "markdown",
   "id": "9a8d3d39",
   "metadata": {},
   "source": [
    "# Q2"
   ]
  },
  {
   "cell_type": "markdown",
   "id": "6ffef92c",
   "metadata": {},
   "source": [
    "### Write a Python program to replace the last value of tuples in a list. Sample list: [(10, 20, 40), (40, 50, 60), (70, 80, 90)] \n",
    "Expected Output: [(10, 20, 1000), (40, 50, 1000), (70, 80, 1000)]"
   ]
  },
  {
   "cell_type": "markdown",
   "id": "f8733432",
   "metadata": {},
   "source": [
    "# Sol:"
   ]
  },
  {
   "cell_type": "code",
   "execution_count": 2,
   "id": "b6e29643",
   "metadata": {
    "scrolled": true
   },
   "outputs": [
    {
     "name": "stdout",
     "output_type": "stream",
     "text": [
      "Updated list: [(10, 20, 1000), (40, 50, 1000), (70, 80, 1000)]\n"
     ]
    }
   ],
   "source": [
    "def replace_last_value(tuples_list, new_value):\n",
    "    result = []\n",
    "    for tup in tuples_list:\n",
    "        new_tup = tup[:-1] + (new_value,)\n",
    "        result.append(new_tup)\n",
    "    return result\n",
    "\n",
    "tuples_list = [(10, 20, 40), (40, 50, 60), (70, 80, 90)]\n",
    "new_value = 1000\n",
    "updated_list = replace_last_value(tuples_list, new_value)\n",
    "print(\"Updated list:\", updated_list)"
   ]
  },
  {
   "cell_type": "markdown",
   "id": "a392607f",
   "metadata": {},
   "source": [
    "# Q3"
   ]
  },
  {
   "cell_type": "markdown",
   "id": "ec7ce204",
   "metadata": {},
   "source": [
    "### Write a Python program to calculate the average value of the numbers in a given tuple of tuples.\n",
    "tuples = ((1,2,3) , (4,5,6) , (15,3,8,)) ------>\n",
    "Average= 15.666666666666666"
   ]
  },
  {
   "cell_type": "markdown",
   "id": "58baa954",
   "metadata": {},
   "source": [
    "# Sol:"
   ]
  },
  {
   "cell_type": "code",
   "execution_count": 3,
   "id": "a425734c",
   "metadata": {},
   "outputs": [
    {
     "name": "stdout",
     "output_type": "stream",
     "text": [
      "Average: 5.222222222222222\n"
     ]
    }
   ],
   "source": [
    "def calculate_average(tuples):\n",
    "    total_sum = 0\n",
    "    count = 0\n",
    "    for tup in tuples:\n",
    "        for num in tup:\n",
    "            total_sum += num\n",
    "            count += 1\n",
    "    average = total_sum / count\n",
    "    return average\n",
    "\n",
    "tuples = ((1,2,3), (4,5,6), (15,3,8))\n",
    "average = calculate_average(tuples)\n",
    "print(\"Average:\", average)"
   ]
  },
  {
   "cell_type": "markdown",
   "id": "0f9ca2e7",
   "metadata": {},
   "source": [
    "# Q4"
   ]
  },
  {
   "cell_type": "markdown",
   "id": "3a3a2469",
   "metadata": {},
   "source": [
    "### Write a Python program that finds all pairs of elements in a list whose sum is equal to a given value.\n",
    "lst = [0,1,2,3,4,5,6,7,8,9] ,\n",
    "value = 4\n",
    ",Expected result ---- > [(0, 4), (1, 3)]"
   ]
  },
  {
   "cell_type": "markdown",
   "id": "cc8c1491",
   "metadata": {},
   "source": [
    "# Sol:"
   ]
  },
  {
   "cell_type": "code",
   "execution_count": 4,
   "id": "76a85e18",
   "metadata": {},
   "outputs": [
    {
     "name": "stdout",
     "output_type": "stream",
     "text": [
      "Pairs: [(0, 4), (1, 3)]\n"
     ]
    }
   ],
   "source": [
    "def find_pairs(lst, value):\n",
    "    pairs = []\n",
    "    for i in range(len(lst)):\n",
    "        for j in range(i+1,len(lst)):\n",
    "            if lst[i] + lst[j] == value:\n",
    "                pairs.append((lst[i], lst[j]))\n",
    "    return pairs\n",
    "\n",
    "lst = [0,1,2,3,4,5,6,7]\n",
    "value = 4\n",
    "result_pairs = find_pairs(lst,value)\n",
    "print(\"Pairs:\", result_pairs)"
   ]
  },
  {
   "cell_type": "markdown",
   "id": "d83059d9",
   "metadata": {},
   "source": [
    "# Q5"
   ]
  },
  {
   "cell_type": "markdown",
   "id": "028b6fc6",
   "metadata": {},
   "source": [
    "### Write a ((function)) that capitalizes the first and fourth letters of a name.\n",
    "Expected Result :  'python' -----> 'PytHon'"
   ]
  },
  {
   "cell_type": "markdown",
   "id": "8f2e70dc",
   "metadata": {},
   "source": [
    "# Sol:"
   ]
  },
  {
   "cell_type": "code",
   "execution_count": 5,
   "id": "bb6e2e64",
   "metadata": {
    "scrolled": true
   },
   "outputs": [
    {
     "name": "stdout",
     "output_type": "stream",
     "text": [
      "Capitalized Name: PytHon\n"
     ]
    }
   ],
   "source": [
    "def capitalize_letters(name):\n",
    "    if len(name) >= 4:\n",
    "        capitalized_name = name[0].upper() + name[1:3] + name[3].upper() + name[4:]\n",
    "        return capitalized_name\n",
    "    else:\n",
    "        return name\n",
    "\n",
    "name = \"python\"\n",
    "capitalized_name = capitalize_letters(name)\n",
    "print(\"Capitalized Name:\", capitalized_name)"
   ]
  },
  {
   "cell_type": "markdown",
   "id": "48e87536",
   "metadata": {},
   "source": [
    "# Q6"
   ]
  },
  {
   "cell_type": "markdown",
   "id": "1a25725c",
   "metadata": {},
   "source": [
    "### Write a ((function)) that given a sentence, return a sentence with the words reversed.\n",
    "'I am home' --> 'home am I'"
   ]
  },
  {
   "cell_type": "markdown",
   "id": "59a94a8c",
   "metadata": {},
   "source": [
    "# Sol:"
   ]
  },
  {
   "cell_type": "code",
   "execution_count": 6,
   "id": "87681039",
   "metadata": {},
   "outputs": [
    {
     "name": "stdout",
     "output_type": "stream",
     "text": [
      "Reversed Sentence: home am I\n"
     ]
    }
   ],
   "source": [
    "def reverse_sentence(sentence):\n",
    "    words_list = sentence.split()\n",
    "    reversed_words_list = words_list[::-1]\n",
    "    reversed_sentence = \" \".join(reversed_words_list)\n",
    "    return reversed_sentence\n",
    "\n",
    "sentence = \"I am home\"\n",
    "reversed_sentence = reverse_sentence(sentence)\n",
    "print(\"Reversed Sentence:\", reversed_sentence)"
   ]
  },
  {
   "cell_type": "markdown",
   "id": "b8e93edd",
   "metadata": {},
   "source": [
    "# Q7"
   ]
  },
  {
   "cell_type": "markdown",
   "id": "1f5087dc",
   "metadata": {},
   "source": [
    "### Write a function that checks whether a number is in a given range (inclusive of high and low)\n",
    "Expected Result : 5 is in the range between 2 and 7\n"
   ]
  },
  {
   "cell_type": "markdown",
   "id": "81c49bbb",
   "metadata": {},
   "source": [
    "# Sol:"
   ]
  },
  {
   "cell_type": "code",
   "execution_count": 7,
   "id": "9df55608",
   "metadata": {},
   "outputs": [
    {
     "name": "stdout",
     "output_type": "stream",
     "text": [
      "5 is in the range between 2 and 7: True\n"
     ]
    }
   ],
   "source": [
    "def check_range(number, low_limit , high_limit):\n",
    "   if number >= low_limit and number <= high_limit:\n",
    "       return True \n",
    "   else:\n",
    "       return False \n",
    "\n",
    "number_to_check=5 \n",
    "low_limit=2 \n",
    "high_limit=7 \n",
    "is_in_range=check_range(number_to_check , low_limit , high_limit) \n",
    "print(f\"{number_to_check} is in the range between {low_limit} and {high_limit}: {is_in_range}\")"
   ]
  },
  {
   "cell_type": "markdown",
   "id": "439a3736",
   "metadata": {},
   "source": [
    "# Q8"
   ]
  },
  {
   "cell_type": "markdown",
   "id": "eaebf0a8",
   "metadata": {},
   "source": [
    "### Write a function that given a list of ints, return True if the array contains a 3 next to a 3 somewhere. hint (Function name -- > has_33)"
   ]
  },
  {
   "cell_type": "raw",
   "id": "561cd3a3",
   "metadata": {},
   "source": [
    "has_33([1, 3, 3]) → True\n",
    "has_33([1, 3, 1, 3]) → False\n",
    "has_33([3, 1, 3]) → False"
   ]
  },
  {
   "cell_type": "markdown",
   "id": "fab169bd",
   "metadata": {},
   "source": [
    "# Sol:"
   ]
  },
  {
   "cell_type": "code",
   "execution_count": 1,
   "id": "42d39c85",
   "metadata": {},
   "outputs": [],
   "source": [
    "def has_33(nums):\n",
    "    for i in range(len(nums)-1):\n",
    "        if nums[i] == 3 and nums[i+1] == 3:\n",
    "            return True\n",
    "    \n",
    "    return False"
   ]
  },
  {
   "cell_type": "code",
   "execution_count": null,
   "id": "2aa43bf4",
   "metadata": {},
   "outputs": [],
   "source": []
  }
 ],
 "metadata": {
  "kernelspec": {
   "display_name": "Python 3 (ipykernel)",
   "language": "python",
   "name": "python3"
  },
  "language_info": {
   "codemirror_mode": {
    "name": "ipython",
    "version": 3
   },
   "file_extension": ".py",
   "mimetype": "text/x-python",
   "name": "python",
   "nbconvert_exporter": "python",
   "pygments_lexer": "ipython3",
   "version": "3.11.5"
  }
 },
 "nbformat": 4,
 "nbformat_minor": 5
}
