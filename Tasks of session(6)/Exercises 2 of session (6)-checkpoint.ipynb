{
 "cells": [
  {
   "cell_type": "markdown",
   "id": "8225d40c",
   "metadata": {},
   "source": [
    "# Q1"
   ]
  },
  {
   "cell_type": "markdown",
   "id": "afe621c8",
   "metadata": {},
   "source": [
    "### Write a function that returns the number of prime numbers that exist up to and including a given number\n",
    "count_primes(100) --> 25\n",
    "By convention, 0 and 1 are not prime."
   ]
  },
  {
   "cell_type": "markdown",
   "id": "d1f563f3",
   "metadata": {},
   "source": [
    "# Sol:"
   ]
  },
  {
   "cell_type": "code",
   "execution_count": 8,
   "id": "95526492",
   "metadata": {},
   "outputs": [
    {
     "name": "stdout",
     "output_type": "stream",
     "text": [
      "[2, 3, 5, 7, 11, 13, 17, 19, 23, 29, 31, 37, 41, 43, 47, 53, 59, 61, 67, 71, 73, 79, 83, 89, 97]\n",
      "25\n"
     ]
    }
   ],
   "source": [
    "def count_primes(num):\n",
    "    if num < 2:\n",
    "        return 0\n",
    "    primes = [2]\n",
    "    x = 3\n",
    "    while x <= num:\n",
    "        for y in range(3,x,2):\n",
    "            if x%y == 0:\n",
    "                x += 2\n",
    "                break\n",
    "        else:\n",
    "            primes.append(x)\n",
    "            x += 2\n",
    "    print(primes)\n",
    "    return len(primes)\n",
    "\n",
    "print(count_primes(100))"
   ]
  },
  {
   "cell_type": "markdown",
   "id": "0237dd5f",
   "metadata": {},
   "source": [
    "# Q2"
   ]
  },
  {
   "cell_type": "markdown",
   "id": "56bd69c5",
   "metadata": {},
   "source": [
    "### write a python program to find the Strongest Neighbour \n",
    "(Input: 1 2 2 3 4 5 Output: 2 2 3 4 5)"
   ]
  },
  {
   "cell_type": "markdown",
   "id": "0f0b9a8c",
   "metadata": {},
   "source": [
    "# Sol:"
   ]
  },
  {
   "cell_type": "code",
   "execution_count": 9,
   "id": "20a84fb1",
   "metadata": {},
   "outputs": [
    {
     "name": "stdout",
     "output_type": "stream",
     "text": [
      "[2, 2, 3, 4, 5]\n"
     ]
    }
   ],
   "source": [
    "\n",
    "\n",
    "def find_strongest_neighbour(arr):\n",
    "    result = []\n",
    "    for i in range(len(arr)-1):\n",
    "        result.append(max(arr[i], arr[i+1]))\n",
    "    return result\n",
    "\n",
    "print(find_strongest_neighbour([1, 2, 2, 3, 4, 5]))"
   ]
  },
  {
   "cell_type": "markdown",
   "id": "15bf8428",
   "metadata": {},
   "source": [
    "# Q3"
   ]
  },
  {
   "cell_type": "markdown",
   "id": "71f1c9c9",
   "metadata": {},
   "source": [
    "### Write a Python function that accepts a string and calculates the number of upper case letters and lower case letters.\n",
    "\n",
    "Sample String : 'Hello Mr. Rogers, how are you this fine Tuesday?'\n",
    "Expected Output : \n",
    "No. of Upper case characters : 4\n",
    "No. of Lower case Characters : 33"
   ]
  },
  {
   "cell_type": "markdown",
   "id": "30276340",
   "metadata": {},
   "source": [
    "# Sol:"
   ]
  },
  {
   "cell_type": "code",
   "execution_count": 11,
   "id": "4616b5e7",
   "metadata": {},
   "outputs": [
    {
     "name": "stdout",
     "output_type": "stream",
     "text": [
      "No. of Upper case characters : 4, No. of Lower case Characters : 33\n"
     ]
    }
   ],
   "source": [
    "\n",
    "\n",
    "def count_upper_lower_case(s):\n",
    "    upper_count = sum(1 for c in s if c.isupper())\n",
    "    lower_count = sum(1 for c in s if c.islower())\n",
    "    return f\"No. of Upper case characters : {upper_count}, No. of Lower case Characters : {lower_count}\"\n",
    "\n",
    "print(count_upper_lower_case('Hello Mr. Rogers, how are you this fine Tuesday?'))"
   ]
  },
  {
   "cell_type": "markdown",
   "id": "5a8a668f",
   "metadata": {},
   "source": [
    "# Q4"
   ]
  },
  {
   "cell_type": "markdown",
   "id": "3f12d1e6",
   "metadata": {},
   "source": [
    "### Write a function that takes in a list of integers and returns True if it contains 007 in order."
   ]
  },
  {
   "cell_type": "raw",
   "id": "74f16e1e",
   "metadata": {},
   "source": [
    "spy_game([1,2,4,0,0,7,5]) --> True\n",
    "spy_game([1,0,2,4,0,5,7]) --> True\n",
    "spy_game([1,7,2,0,4,5,0]) --> False"
   ]
  },
  {
   "cell_type": "markdown",
   "id": "281cd7a9",
   "metadata": {},
   "source": [
    "# Sol:"
   ]
  },
  {
   "cell_type": "code",
   "execution_count": 14,
   "id": "838473a8",
   "metadata": {},
   "outputs": [
    {
     "name": "stdout",
     "output_type": "stream",
     "text": [
      "True\n",
      "False\n"
     ]
    }
   ],
   "source": [
    "def spy_game(nums):\n",
    "    code = [0,0,7,'x']\n",
    "    \n",
    "    for num in nums:\n",
    "        if num == code[0]:\n",
    "            code.pop(0)\n",
    "            \n",
    "    return len(code) == 1\n",
    "\n",
    "print(spy_game([1,2,4,0,0,7,5]))\n",
    "print(spy_game([1,7,2,0,4,5,0]))"
   ]
  },
  {
   "cell_type": "markdown",
   "id": "bc702cf2",
   "metadata": {},
   "source": [
    "# Q5"
   ]
  },
  {
   "cell_type": "markdown",
   "id": "611afbe0",
   "metadata": {},
   "source": [
    "### Given three integers between 1 and 11, if their sum is less than or equal to 21, return their sum. If their sum exceeds 21 and there's an eleven, reduce the total sum by 10. Finally, if the sum (even after adjustment) exceeds 21, return 'BUST'"
   ]
  },
  {
   "cell_type": "raw",
   "id": "8b5d46eb",
   "metadata": {},
   "source": [
    "blackjack(5,6,7) --> 18\n",
    "blackjack(9,9,9) --> 'BUST'\n",
    "blackjack(9,9,11) --> 19"
   ]
  },
  {
   "cell_type": "markdown",
   "id": "e13e8e1b",
   "metadata": {},
   "source": [
    "# Sol:"
   ]
  },
  {
   "cell_type": "code",
   "execution_count": 17,
   "id": "df5e0511",
   "metadata": {},
   "outputs": [
    {
     "name": "stdout",
     "output_type": "stream",
     "text": [
      "18\n",
      "BUST\n",
      "19\n"
     ]
    }
   ],
   "source": [
    "def blackjack(a,b,c):\n",
    "    if sum([a,b,c]) <= 21:\n",
    "        return sum([a,b,c])\n",
    "    elif sum([a,b,c]) <=31 and 11 in [a,b,c]:\n",
    "        return sum([a,b,c]) -10\n",
    "    else:\n",
    "        return 'BUST'\n",
    "\n",
    "print(blackjack(5,6,7))\n",
    "print(blackjack(9,9,9))\n",
    "print(blackjack(9,9,11))"
   ]
  },
  {
   "cell_type": "code",
   "execution_count": null,
   "id": "7abfa8f6",
   "metadata": {},
   "outputs": [],
   "source": []
  }
 ],
 "metadata": {
  "kernelspec": {
   "display_name": "Python 3 (ipykernel)",
   "language": "python",
   "name": "python3"
  },
  "language_info": {
   "codemirror_mode": {
    "name": "ipython",
    "version": 3
   },
   "file_extension": ".py",
   "mimetype": "text/x-python",
   "name": "python",
   "nbconvert_exporter": "python",
   "pygments_lexer": "ipython3",
   "version": "3.11.5"
  }
 },
 "nbformat": 4,
 "nbformat_minor": 5
}
