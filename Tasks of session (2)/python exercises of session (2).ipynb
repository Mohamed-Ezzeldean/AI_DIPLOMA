{
 "cells": [
  {
   "cell_type": "markdown",
   "id": "e9f89571",
   "metadata": {},
   "source": [
    "# Task1:"
   ]
  },
  {
   "cell_type": "markdown",
   "id": "f1ef4e95",
   "metadata": {},
   "source": [
    "#  Write a program to enter a number from a user and print its absolute value."
   ]
  },
  {
   "cell_type": "code",
   "execution_count": 7,
   "id": "88982442",
   "metadata": {},
   "outputs": [
    {
     "name": "stdout",
     "output_type": "stream",
     "text": [
      "enter numer: -7\n",
      "the abolute value of  -7.0 is 7.0\n"
     ]
    }
   ],
   "source": [
    "#usinf function\n",
    "x=float(input(\"enter numer: \"))\n",
    "absolute_value = abs(x)\n",
    "print(\"the abolute value of \" , x , \"is\" , absolute_value)\n"
   ]
  },
  {
   "cell_type": "code",
   "execution_count": 9,
   "id": "5e981d49",
   "metadata": {},
   "outputs": [
    {
     "name": "stdout",
     "output_type": "stream",
     "text": [
      "Enter a number: -7\n",
      "The absolute value of -7.0 is 7.0\n"
     ]
    }
   ],
   "source": [
    "#using if condition \n",
    "x = float(input(\"Enter a number: \"))\n",
    "if x < 0:\n",
    "    print(\"The absolute value of\", x , \"is\", -x )\n",
    "else:\n",
    "    print(\"The absolute value of\", x , \"is\", x )"
   ]
  },
  {
   "cell_type": "markdown",
   "id": "67e9bd5c",
   "metadata": {},
   "source": [
    "# Task2:\n"
   ]
  },
  {
   "cell_type": "markdown",
   "id": "131fa2be",
   "metadata": {},
   "source": [
    "# Write a program to enter a year from a user and check if it is a leap year or not."
   ]
  },
  {
   "cell_type": "code",
   "execution_count": 15,
   "id": "163803db",
   "metadata": {},
   "outputs": [
    {
     "name": "stdout",
     "output_type": "stream",
     "text": [
      "Enter a year: 2000\n",
      "2000 is a leap year\n"
     ]
    }
   ],
   "source": [
    "year = int(input(\"Enter a year: \"))\n",
    "\n",
    "if (year % 4 == 0 and year % 100 != 0) or (year % 400 == 0):\n",
    "    print(year, \"is a leap year\")\n",
    "else:\n",
    "    print(year, \"is not a leap year\")"
   ]
  },
  {
   "cell_type": "markdown",
   "id": "98473185",
   "metadata": {},
   "source": [
    "# Task3:"
   ]
  },
  {
   "cell_type": "markdown",
   "id": "3c046638",
   "metadata": {},
   "source": [
    "# Write a program to enter the age of 3 person and print the oldest and the youngest among them."
   ]
  },
  {
   "cell_type": "code",
   "execution_count": 11,
   "id": "f4c72b2a",
   "metadata": {},
   "outputs": [
    {
     "name": "stdout",
     "output_type": "stream",
     "text": [
      "enter age of first person: 150\n",
      "enter age of second person: 200\n",
      "enter age of third person: 175\n",
      "second person is the oldest.\n",
      "first person is the youngest.\n"
     ]
    }
   ],
   "source": [
    "#using if condtion\n",
    "age1 = int(input(\"enter age of first person: \"))\n",
    "age2 = int(input(\"enter age of second person: \"))\n",
    "age3 = int(input(\"enter age of third person: \"))\n",
    "\n",
    "if age1 > age2 and age1 > age3:\n",
    "    print(\"first person is the oldest.\")\n",
    "elif age2 > age1 and age2 > age3:\n",
    "    print(\"second person is the oldest.\")\n",
    "else:\n",
    "    print(\"third person is the oldest.\")\n",
    "\n",
    "if age1 < age2 and age1 < age3:\n",
    "    print(\"first person is the youngest.\")\n",
    "elif age2 < age1 and age2 < age3:\n",
    "    print(\"second person is the youngest.\")\n",
    "else:\n",
    "    print(\"third person is the youngest.\")\n",
    "\n"
   ]
  },
  {
   "cell_type": "code",
   "execution_count": 13,
   "id": "ae3cd51b",
   "metadata": {},
   "outputs": [
    {
     "name": "stdout",
     "output_type": "stream",
     "text": [
      "enter age of first person: 150\n",
      "enter age of second person: 200\n",
      "enter age of third person: 175\n",
      "the youngest is:  150\n",
      "the oldest is:  200\n"
     ]
    }
   ],
   "source": [
    "#using function\n",
    "age1 = int(input(\"enter age of first person: \"))\n",
    "age2 = int(input(\"enter age of second person: \"))\n",
    "age3 = int(input(\"enter age of third person: \"))\n",
    "oldest = max(age1,age2,age3)\n",
    "youngest = min(age1,age2,age3)\n",
    "print(\"the youngest is: \" , youngest)\n",
    "print(\"the oldest is: \" , oldest)\n"
   ]
  },
  {
   "cell_type": "markdown",
   "id": "1ae729a2",
   "metadata": {},
   "source": [
    "# Task4:\n"
   ]
  },
  {
   "cell_type": "markdown",
   "id": "e1ad748e",
   "metadata": {},
   "source": [
    "# What is the name of the library that encrypted the number like the password?"
   ]
  },
  {
   "cell_type": "markdown",
   "id": "8328b2d4",
   "metadata": {},
   "source": [
    "PyNaCl"
   ]
  },
  {
   "cell_type": "code",
   "execution_count": null,
   "id": "ea6bc156",
   "metadata": {},
   "outputs": [],
   "source": []
  },
  {
   "cell_type": "code",
   "execution_count": null,
   "id": "4665e4ff",
   "metadata": {},
   "outputs": [],
   "source": []
  }
 ],
 "metadata": {
  "kernelspec": {
   "display_name": "Python 3 (ipykernel)",
   "language": "python",
   "name": "python3"
  },
  "language_info": {
   "codemirror_mode": {
    "name": "ipython",
    "version": 3
   },
   "file_extension": ".py",
   "mimetype": "text/x-python",
   "name": "python",
   "nbconvert_exporter": "python",
   "pygments_lexer": "ipython3",
   "version": "3.11.5"
  }
 },
 "nbformat": 4,
 "nbformat_minor": 5
}
