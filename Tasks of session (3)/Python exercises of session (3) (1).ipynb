{
 "cells": [
  {
   "cell_type": "markdown",
   "id": "ec97ccf2",
   "metadata": {},
   "source": [
    "# Q1"
   ]
  },
  {
   "cell_type": "markdown",
   "id": "5da65150",
   "metadata": {},
   "source": [
    "## Write a Simple Calculator in Python which will perform various Calculator operations such as Addition, Subtraction, Multiplication, Division. Note ---> Using elif.\n",
    "\n",
    "Enter your first number: 10\n",
    "Enter your second number: 2 \n",
    "Enter operation, your options +, -, *, /: / \n",
    "the division for 10 / 2 = 5.0"
   ]
  },
  {
   "cell_type": "markdown",
   "id": "53c9406a",
   "metadata": {},
   "source": [
    "# Sol:"
   ]
  },
  {
   "cell_type": "code",
   "execution_count": 4,
   "id": "3f2b95de",
   "metadata": {},
   "outputs": [
    {
     "name": "stdout",
     "output_type": "stream",
     "text": [
      "Enter your first number:10\n",
      "Enter your second number:2\n",
      "Enter operation, your option +,-,*,/:/\n",
      "5.0\n"
     ]
    }
   ],
   "source": [
    "firstNum=int(input('Enter your first number:'))\n",
    "secondNum=int(input('Enter your second number:'))\n",
    "operation=input('Enter operation, your option +,-,*,/:')\n",
    "if operation=='+':\n",
    "    print(firstNum+secondNum)\n",
    "elif operation=='-':\n",
    "      print(firstNum-secondNum)\n",
    "elif operation=='*':\n",
    "      print(firstNum*secondNum)\n",
    "elif operation == '/':\n",
    "    if secondNum != 0:\n",
    "        print(firstNum / secondNum)\n",
    "    else:\n",
    "        print(\"Error: Division by zero is not allowed.\")\n",
    "else:\n",
    "    print(\"Error: Invalid operation.\")"
   ]
  },
  {
   "cell_type": "markdown",
   "id": "9a8d3d39",
   "metadata": {},
   "source": [
    "# Q2"
   ]
  },
  {
   "cell_type": "markdown",
   "id": "6ffef92c",
   "metadata": {},
   "source": [
    "## Write a Python script that takes input from the user and displays that input back in upper and lower cases."
   ]
  },
  {
   "cell_type": "markdown",
   "id": "f8733432",
   "metadata": {},
   "source": [
    "# Sol:"
   ]
  },
  {
   "cell_type": "code",
   "execution_count": 6,
   "id": "08fdefa3",
   "metadata": {},
   "outputs": [
    {
     "name": "stdout",
     "output_type": "stream",
     "text": [
      "Enter your input: I Love Python\n",
      "Input in uppercase: I LOVE PYTHON\n",
      "Input in lowercase: i love python\n"
     ]
    }
   ],
   "source": [
    "userInput = input(\"Enter your input: \")\n",
    "\n",
    "# Convert input to uppercase\n",
    "uppercase = userInput.upper()\n",
    "\n",
    "# Convert input to lowercase\n",
    "lowercase = userInput.lower()\n",
    "\n",
    "# Display the input in upper and lower cases\n",
    "print(\"Input in uppercase:\", uppercase)\n",
    "print(\"Input in lowercase:\", lowercase)"
   ]
  },
  {
   "cell_type": "markdown",
   "id": "a392607f",
   "metadata": {},
   "source": [
    "# Q3"
   ]
  },
  {
   "cell_type": "markdown",
   "id": "ec7ce204",
   "metadata": {},
   "source": [
    "## Write a Python program to remove a newline in Python."
   ]
  },
  {
   "cell_type": "markdown",
   "id": "58baa954",
   "metadata": {},
   "source": [
    "# Sol:"
   ]
  },
  {
   "cell_type": "code",
   "execution_count": 9,
   "id": "6262c322",
   "metadata": {},
   "outputs": [
    {
     "name": "stdout",
     "output_type": "stream",
     "text": [
      "Programming Language\n"
     ]
    }
   ],
   "source": [
    "print('Programming', end = \" \")\n",
    "print('Language')"
   ]
  },
  {
   "cell_type": "markdown",
   "id": "c178a2ef",
   "metadata": {},
   "source": [
    "# Q4\n"
   ]
  },
  {
   "cell_type": "markdown",
   "id": "237d77ff",
   "metadata": {},
   "source": [
    "# Write a Python program to calculate the length of a string using (Two Ways).\n",
    "input = \"ILovePython\""
   ]
  },
  {
   "cell_type": "markdown",
   "id": "5074532e",
   "metadata": {},
   "source": [
    "# Sol:\n"
   ]
  },
  {
   "cell_type": "markdown",
   "id": "a42072b2",
   "metadata": {},
   "source": [
    "Str = input(\"Please enter string:\")\n",
    "print('No.OfString: ' ,len(Str))"
   ]
  },
  {
   "cell_type": "code",
   "execution_count": 2,
   "id": "dc87db37",
   "metadata": {},
   "outputs": [
    {
     "name": "stdout",
     "output_type": "stream",
     "text": [
      "Please enter string:iLovePython\n",
      "No.OfString:  11\n"
     ]
    }
   ],
   "source": [
    "#second way\n",
    "Str = input(\"Please enter string:\")\n",
    "count = 0\n",
    "for i in Str:\n",
    "    count +=1\n",
    "print('No.OfString: ' ,count)"
   ]
  },
  {
   "cell_type": "markdown",
   "id": "35f1c977",
   "metadata": {},
   "source": [
    "# Q5\n"
   ]
  },
  {
   "cell_type": "markdown",
   "id": "4c40dcb6",
   "metadata": {},
   "source": [
    "# Write a Python program to get a string made of the first 2 and last 2 characters of a given string. If the string length is less than 2, return the empty string instead (\"###Sample String : 'w3resource' Expected Result : 'w3ce' ###Sample String : 'w3' Expected Result : 'w3w3' ###Sample String : ' w' Expected Result : Empty String)"
   ]
  },
  {
   "cell_type": "markdown",
   "id": "673348cc",
   "metadata": {},
   "source": [
    "# sol:"
   ]
  },
  {
   "cell_type": "code",
   "execution_count": 3,
   "id": "483181f5",
   "metadata": {},
   "outputs": [
    {
     "name": "stdout",
     "output_type": "stream",
     "text": [
      "Please enter string:an\n",
      "anan\n"
     ]
    }
   ],
   "source": [
    "Str = input(\"Please enter string:\")\n",
    "if len(Str) < 2:\n",
    "    print(\" \")\n",
    "elif len(Str) == 2 :\n",
    "    print(Str[0:2] * 2)\n",
    "else:\n",
    "    print(Str[0:2] + Str [-2 :])"
   ]
  },
  {
   "cell_type": "markdown",
   "id": "1fe3f7ed",
   "metadata": {},
   "source": [
    "# Q6: Write a Python program to add 'ing' at the end of a given string (length should be at least 3). If the given string already ends with 'ing', add 'ly' instead. If the string length of the given string is less than 3, leave it unchanged. (Sample String : 'abc' Expected Result : 'abcing').\n",
    "Sol:"
   ]
  },
  {
   "cell_type": "code",
   "execution_count": 5,
   "id": "4707eeda",
   "metadata": {},
   "outputs": [
    {
     "name": "stdout",
     "output_type": "stream",
     "text": [
      "Please enter string:eat\n",
      "eating\n"
     ]
    }
   ],
   "source": [
    "Str = input(\"Please enter string:\")\n",
    "if len(Str) < 3:\n",
    "    print(Str)\n",
    "elif Str.endswith('ing'):\n",
    "    print(Str.replace('ing' , 'ly'))\n",
    "else:\n",
    "    print(Str + 'ing')"
   ]
  },
  {
   "cell_type": "markdown",
   "id": "6f6dc441",
   "metadata": {},
   "source": [
    "# Q7: Write a Python program that takes a list of words and return the longest word and the length of the longest one (Longest word: Exercises Length of the longest word: 9)\n",
    "Sol:\n"
   ]
  },
  {
   "cell_type": "code",
   "execution_count": 6,
   "id": "90d9073b",
   "metadata": {},
   "outputs": [
    {
     "name": "stdout",
     "output_type": "stream",
     "text": [
      "yousef : 6\n"
     ]
    }
   ],
   "source": [
    "strList = [\"ali\", \"Ahmed\" , \"yousef\" ,\"Shahed\"]\n",
    "maxLen = 0\n",
    "maxWord= \" \"\n",
    "for i in strList:\n",
    "    if len(i) > maxLen:\n",
    "        maxLen = len(i)\n",
    "        maxWord = i\n",
    "print(maxWord,\":\",maxLen)"
   ]
  },
  {
   "cell_type": "markdown",
   "id": "a7dc6065",
   "metadata": {},
   "source": [
    "# Q8:Write a Python program to remove characters that have odd index values in a given string (Sample String:abca Expected Result:ac)\n",
    "Sol:\n"
   ]
  },
  {
   "cell_type": "code",
   "execution_count": 7,
   "id": "16e63790",
   "metadata": {},
   "outputs": [
    {
     "name": "stdout",
     "output_type": "stream",
     "text": [
      "Please enter string:abcd\n",
      " ac\n"
     ]
    }
   ],
   "source": [
    "string=input(\"Please enter string:\")\n",
    "newString = \" \" \n",
    "for i in range(len(string)):\n",
    "    if i % 2 == 0:\n",
    "        newString +=string[i]\n",
    "print(newString)"
   ]
  },
  {
   "cell_type": "markdown",
   "id": "9c283f4a",
   "metadata": {},
   "source": [
    "# Q9: Write a Python program to count the occurrences of each word in a given sentence (Sample String:amr and ahmed are frindes but amr is the tallest Expected Result:2)\n",
    "Sol:\n"
   ]
  },
  {
   "cell_type": "code",
   "execution_count": 8,
   "id": "b0501901",
   "metadata": {},
   "outputs": [
    {
     "name": "stdout",
     "output_type": "stream",
     "text": [
      "tallestWord (amr) : withCount (2)\n"
     ]
    }
   ],
   "source": [
    "sentence = \"amr and ahmed are frindes but amr is the tallest\"\n",
    "wordsLst = sentence.split()\n",
    "lst = []\n",
    "for word in wordsLst :\n",
    "    if word not in lst :\n",
    "        if not wordsLst.count(word) == 1 :\n",
    "            print(\"tallestWord ({}) : withCount ({})\".format(word,wordsLst.count(word)))\n",
    "            lst.append(word)\n",
    "    else :\n",
    "        pass"
   ]
  },
  {
   "cell_type": "markdown",
   "id": "072642b9",
   "metadata": {},
   "source": [
    "# Q10: Write a Python function to reverse a string if its length is a multiple of 4\n",
    "Sol:\n"
   ]
  },
  {
   "cell_type": "code",
   "execution_count": 9,
   "id": "48a1d92e",
   "metadata": {},
   "outputs": [
    {
     "name": "stdout",
     "output_type": "stream",
     "text": [
      "Please enter string:asdfghjf\n",
      "fjhgfdsa\n"
     ]
    }
   ],
   "source": [
    "string = input(\"Please enter string:\")\n",
    "if len(string) % 4 == 0:\n",
    "    print(string[::-1])\n",
    "else:\n",
    "    print(\"string is not divided by 4\")"
   ]
  },
  {
   "cell_type": "markdown",
   "id": "f0e66643",
   "metadata": {},
   "source": [
    "# Q11: Write a Python program to print the following numbers up to 2 decimal places.\n",
    "numbers = [2.225,5.33654,8.55677884]\n",
    "\n",
    "Sol:\n"
   ]
  },
  {
   "cell_type": "code",
   "execution_count": 10,
   "id": "e5b93cab",
   "metadata": {},
   "outputs": [
    {
     "name": "stdout",
     "output_type": "stream",
     "text": [
      "2.23\n",
      "5.34\n",
      "8.56\n"
     ]
    }
   ],
   "source": [
    "numbers = [2.225,5.33654,8.55677884]\n",
    "for i in numbers:\n",
    "    print(\"{:.2f}\".format(i))"
   ]
  },
  {
   "cell_type": "markdown",
   "id": "6495c3da",
   "metadata": {},
   "source": [
    "# Q12: Write a Python program to count the number of non-empty substrings of a given string.\n",
    "input = \"I Love Python\"\n",
    "\n",
    "Sol:\n"
   ]
  },
  {
   "cell_type": "code",
   "execution_count": 11,
   "id": "ce926355",
   "metadata": {},
   "outputs": [
    {
     "data": {
      "text/plain": [
       "3"
      ]
     },
     "execution_count": 11,
     "metadata": {},
     "output_type": "execute_result"
    }
   ],
   "source": [
    "name = \"I Love Python\"\n",
    "len(name.split())"
   ]
  },
  {
   "cell_type": "markdown",
   "id": "3f825e8d",
   "metadata": {},
   "source": [
    "# Q13: remove duplicated elements from a list\n",
    "lst = [20,20,10,15,15,5]\n",
    "\n",
    "Sol:\n"
   ]
  },
  {
   "cell_type": "code",
   "execution_count": 12,
   "id": "6e544659",
   "metadata": {},
   "outputs": [
    {
     "name": "stdout",
     "output_type": "stream",
     "text": [
      "[20, 10, 15, 5]\n"
     ]
    }
   ],
   "source": [
    "lst = [20,20,10,15,15,5]\n",
    "newlst = []\n",
    "for i in lst:\n",
    "    if i not in newlst:\n",
    "        newlst.append(i)\n",
    "print(newlst)"
   ]
  },
  {
   "cell_type": "markdown",
   "id": "0c813ca6",
   "metadata": {},
   "source": [
    "# Q14: Write a Python function that takes a list of numbers and return the Minimum number.\n",
    "Sol:\n"
   ]
  },
  {
   "cell_type": "code",
   "execution_count": 13,
   "id": "78f89e6b",
   "metadata": {},
   "outputs": [
    {
     "name": "stdout",
     "output_type": "stream",
     "text": [
      "Minimum number: 1\n"
     ]
    }
   ],
   "source": [
    "def find_minimum(numbers):\n",
    "    return min(numbers)\n",
    "numbers = [5, 2, 9, 1, 7]\n",
    "minimum = find_minimum(numbers)\n",
    "print(\"Minimum number:\", minimum)"
   ]
  },
  {
   "cell_type": "markdown",
   "id": "7855ef88",
   "metadata": {},
   "source": [
    "# Q15: Write a Python program to replace the last value of tuples in a list. Sample list: [(10, 20, 40), (40, 50, 60), (70, 80, 90)]\n",
    "Expected Output: [(10, 20, 1000), (40, 50, 1000), (70, 80, 1000)]\n",
    "\n",
    "Sol:\n"
   ]
  },
  {
   "cell_type": "code",
   "execution_count": 15,
   "id": "19213354",
   "metadata": {},
   "outputs": [
    {
     "name": "stdout",
     "output_type": "stream",
     "text": [
      "Updated list: [(10, 20, 1000), (40, 50, 1000), (70, 80, 1000)]\n"
     ]
    }
   ],
   "source": [
    "def replace_last_value(tuples_list, new_value):\n",
    "    result = []\n",
    "    for tup in tuples_list:\n",
    "        new_tup = tup[:-1] + (new_value,)\n",
    "        result.append(new_tup)\n",
    "    return result\n",
    "tuples_list = [(10, 20, 40), (40, 50, 60), (70, 80, 90)]\n",
    "new_value = 1000\n",
    "updated_list = replace_last_value(tuples_list, new_value)\n",
    "print(\"Updated list:\", updated_list)"
   ]
  },
  {
   "cell_type": "markdown",
   "id": "d57a016b",
   "metadata": {},
   "source": [
    "# Q16: Write a Python program to calculate the average value of the numbers in a given tuple of tuples.\n",
    "tuples = ((1,2,3) , (4,5,6) , (15,3,8,)) ------> Average= 15.666666666666666\n",
    "\n",
    "Sol:\n"
   ]
  },
  {
   "cell_type": "code",
   "execution_count": 16,
   "id": "03bda975",
   "metadata": {},
   "outputs": [
    {
     "name": "stdout",
     "output_type": "stream",
     "text": [
      "Average: 5.222222222222222\n"
     ]
    }
   ],
   "source": [
    "def calculate_average(tuples):\n",
    "    total_sum = 0\n",
    "    count = 0\n",
    "    for tup in tuples:\n",
    "        for num in tup:\n",
    "            total_sum += num\n",
    "            count += 1\n",
    "    average = total_sum / count\n",
    "    return average\n",
    "\n",
    "tuples = ((1,2,3), (4,5,6), (15,3,8))\n",
    "average = calculate_average(tuples)\n",
    "print(\"Average:\", average)"
   ]
  },
  {
   "cell_type": "markdown",
   "id": "c9b0a589",
   "metadata": {},
   "source": [
    "# Q17: Write a Python program that finds all pairs of elements in a list whose sum is equal to a given value.\n",
    "lst = [0,1,2,3,4,5,6,7,8,9] , value = 4 ,Expected result ---- > [(0, 4), (1, 3)]\n",
    "\n",
    "Sol:\n"
   ]
  },
  {
   "cell_type": "code",
   "execution_count": 17,
   "id": "d5ee7fc3",
   "metadata": {},
   "outputs": [
    {
     "name": "stdout",
     "output_type": "stream",
     "text": [
      "Pairs: [(0, 4), (1, 3)]\n"
     ]
    }
   ],
   "source": [
    "def find_pairs(lst, value):\n",
    "    pairs = []\n",
    "    for i in range(len(lst)):\n",
    "        for j in range(i+1,len(lst)):\n",
    "            if lst[i] + lst[j] == value:\n",
    "                pairs.append((lst[i], lst[j]))\n",
    "    return pairs\n",
    "\n",
    "lst = [0,1,2,3,4,5,6,7]\n",
    "value = 4\n",
    "result_pairs = find_pairs(lst,value)\n",
    "print(\"Pairs:\", result_pairs)"
   ]
  },
  {
   "cell_type": "markdown",
   "id": "0029e52e",
   "metadata": {},
   "source": [
    "# Q18: Write a ((function)) that capitalizes the first and fourth letters of a name.\n",
    "Expected Result : 'python' -----> 'PytHon'\n",
    "\n",
    "Sol:\n"
   ]
  },
  {
   "cell_type": "code",
   "execution_count": 18,
   "id": "bfe9d97d",
   "metadata": {},
   "outputs": [
    {
     "name": "stdout",
     "output_type": "stream",
     "text": [
      "Capitalized Name: PytHon\n"
     ]
    }
   ],
   "source": [
    "def capitalize_letters(name):\n",
    "    if len(name) >= 4:\n",
    "        capitalized_name = name[0].upper() + name[1:3] + name[3].upper() + name[4:]\n",
    "        return capitalized_name\n",
    "    else:\n",
    "        return name\n",
    "\n",
    "name = \"python\"\n",
    "capitalized_name = capitalize_letters(name)\n",
    "print(\"Capitalized Name:\", capitalized_name)"
   ]
  },
  {
   "cell_type": "markdown",
   "id": "81bd882b",
   "metadata": {},
   "source": [
    "# Q19: Write a ((function)) that given a sentence, return a sentence with the words reversed.\n",
    "'I am home' --> 'home am I'\n",
    "\n",
    "Sol:\n"
   ]
  },
  {
   "cell_type": "code",
   "execution_count": 19,
   "id": "5db82c88",
   "metadata": {},
   "outputs": [
    {
     "name": "stdout",
     "output_type": "stream",
     "text": [
      "Reversed Sentence: home am I\n"
     ]
    }
   ],
   "source": [
    "def reverse_sentence(sentence):\n",
    "    words_list = sentence.split()\n",
    "    reversed_words_list = words_list[::-1]\n",
    "    reversed_sentence = \" \".join(reversed_words_list)\n",
    "    return reversed_sentence\n",
    "sentence = \"I am home\"\n",
    "reversed_sentence = reverse_sentence(sentence)\n",
    "print(\"Reversed Sentence:\", reversed_sentence)"
   ]
  },
  {
   "cell_type": "markdown",
   "id": "53c0061f",
   "metadata": {},
   "source": [
    "# Q20: Write a function that checks whether a number is in a given range (inclusive of high and low)\n",
    "Expected Result : 5 is in the range between 2 and 7\n",
    "\n",
    "Sol:\n"
   ]
  },
  {
   "cell_type": "code",
   "execution_count": 20,
   "id": "fa920069",
   "metadata": {},
   "outputs": [
    {
     "name": "stdout",
     "output_type": "stream",
     "text": [
      "5 is in the range between 2 and 7: True\n"
     ]
    }
   ],
   "source": [
    "def check_range(number, low_limit , high_limit):\n",
    "   if number >= low_limit and number <= high_limit:\n",
    "       return True \n",
    "   else:\n",
    "       return False \n",
    "\n",
    "number_to_check=5 \n",
    "low_limit=2 \n",
    "high_limit=7 \n",
    "is_in_range=check_range(number_to_check , low_limit , high_limit) \n",
    "print(f\"{number_to_check} is in the range between {low_limit} and {high_limit}: {is_in_range}\")"
   ]
  },
  {
   "cell_type": "code",
   "execution_count": null,
   "id": "3d479a9d",
   "metadata": {},
   "outputs": [],
   "source": []
  }
 ],
 "metadata": {
  "kernelspec": {
   "display_name": "Python 3 (ipykernel)",
   "language": "python",
   "name": "python3"
  },
  "language_info": {
   "codemirror_mode": {
    "name": "ipython",
    "version": 3
   },
   "file_extension": ".py",
   "mimetype": "text/x-python",
   "name": "python",
   "nbconvert_exporter": "python",
   "pygments_lexer": "ipython3",
   "version": "3.11.5"
  }
 },
 "nbformat": 4,
 "nbformat_minor": 5
}
